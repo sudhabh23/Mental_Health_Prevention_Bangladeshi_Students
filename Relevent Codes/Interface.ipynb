{
  "nbformat": 4,
  "nbformat_minor": 0,
  "metadata": {
    "colab": {
      "provenance": [],
      "gpuType": "V28"
    },
    "kernelspec": {
      "name": "python3",
      "display_name": "Python 3"
    },
    "language_info": {
      "name": "python"
    },
    "accelerator": "TPU"
  },
  "cells": [
    {
      "cell_type": "code",
      "source": [
        "# Import necessary libraries\n",
        "import warnings\n",
        "warnings.filterwarnings(\"ignore\")\n",
        "import joblib\n",
        "import pandas as pd"
      ],
      "metadata": {
        "id": "Y7dGB1Q3KSJM"
      },
      "execution_count": 1,
      "outputs": []
    },
    {
      "cell_type": "code",
      "source": [
        "!pip install gradio\n",
        "# Import necessary library\n",
        "import gradio as gr"
      ],
      "metadata": {
        "id": "Rj5X__1MJGfK",
        "colab": {
          "base_uri": "https://localhost:8080/"
        },
        "outputId": "c46518b0-a16f-4731-f16c-14bbc33d4135"
      },
      "execution_count": 2,
      "outputs": [
        {
          "output_type": "stream",
          "name": "stdout",
          "text": [
            "Requirement already satisfied: gradio in /usr/local/lib/python3.10/dist-packages (5.1.0)\n",
            "Requirement already satisfied: aiofiles<24.0,>=22.0 in /usr/local/lib/python3.10/dist-packages (from gradio) (23.2.1)\n",
            "Requirement already satisfied: anyio<5.0,>=3.0 in /usr/local/lib/python3.10/dist-packages (from gradio) (3.7.1)\n",
            "Requirement already satisfied: fastapi<1.0 in /usr/local/lib/python3.10/dist-packages (from gradio) (0.115.2)\n",
            "Requirement already satisfied: ffmpy in /usr/local/lib/python3.10/dist-packages (from gradio) (0.4.0)\n",
            "Requirement already satisfied: gradio-client==1.4.0 in /usr/local/lib/python3.10/dist-packages (from gradio) (1.4.0)\n",
            "Requirement already satisfied: httpx>=0.24.1 in /usr/local/lib/python3.10/dist-packages (from gradio) (0.27.2)\n",
            "Requirement already satisfied: huggingface-hub>=0.25.1 in /usr/local/lib/python3.10/dist-packages (from gradio) (0.26.0)\n",
            "Requirement already satisfied: jinja2<4.0 in /usr/local/lib/python3.10/dist-packages (from gradio) (3.1.4)\n",
            "Requirement already satisfied: markupsafe~=2.0 in /usr/local/lib/python3.10/dist-packages (from gradio) (2.1.5)\n",
            "Requirement already satisfied: numpy<3.0,>=1.0 in /usr/local/lib/python3.10/dist-packages (from gradio) (1.26.4)\n",
            "Requirement already satisfied: orjson~=3.0 in /usr/local/lib/python3.10/dist-packages (from gradio) (3.10.9)\n",
            "Requirement already satisfied: packaging in /usr/local/lib/python3.10/dist-packages (from gradio) (24.1)\n",
            "Requirement already satisfied: pandas<3.0,>=1.0 in /usr/local/lib/python3.10/dist-packages (from gradio) (2.2.2)\n",
            "Requirement already satisfied: pillow<11.0,>=8.0 in /usr/local/lib/python3.10/dist-packages (from gradio) (10.4.0)\n",
            "Requirement already satisfied: pydantic>=2.0 in /usr/local/lib/python3.10/dist-packages (from gradio) (2.9.2)\n",
            "Requirement already satisfied: pydub in /usr/local/lib/python3.10/dist-packages (from gradio) (0.25.1)\n",
            "Requirement already satisfied: python-multipart>=0.0.9 in /usr/local/lib/python3.10/dist-packages (from gradio) (0.0.13)\n",
            "Requirement already satisfied: pyyaml<7.0,>=5.0 in /usr/local/lib/python3.10/dist-packages (from gradio) (6.0.2)\n",
            "Requirement already satisfied: ruff>=0.2.2 in /usr/local/lib/python3.10/dist-packages (from gradio) (0.7.0)\n",
            "Requirement already satisfied: semantic-version~=2.0 in /usr/local/lib/python3.10/dist-packages (from gradio) (2.10.0)\n",
            "Requirement already satisfied: tomlkit==0.12.0 in /usr/local/lib/python3.10/dist-packages (from gradio) (0.12.0)\n",
            "Requirement already satisfied: typer<1.0,>=0.12 in /usr/local/lib/python3.10/dist-packages (from gradio) (0.12.5)\n",
            "Requirement already satisfied: typing-extensions~=4.0 in /usr/local/lib/python3.10/dist-packages (from gradio) (4.12.2)\n",
            "Requirement already satisfied: uvicorn>=0.14.0 in /usr/local/lib/python3.10/dist-packages (from gradio) (0.32.0)\n",
            "Requirement already satisfied: fsspec in /usr/local/lib/python3.10/dist-packages (from gradio-client==1.4.0->gradio) (2024.9.0)\n",
            "Requirement already satisfied: websockets<13.0,>=10.0 in /usr/local/lib/python3.10/dist-packages (from gradio-client==1.4.0->gradio) (12.0)\n",
            "Requirement already satisfied: idna>=2.8 in /usr/local/lib/python3.10/dist-packages (from anyio<5.0,>=3.0->gradio) (3.10)\n",
            "Requirement already satisfied: sniffio>=1.1 in /usr/local/lib/python3.10/dist-packages (from anyio<5.0,>=3.0->gradio) (1.3.1)\n",
            "Requirement already satisfied: exceptiongroup in /usr/local/lib/python3.10/dist-packages (from anyio<5.0,>=3.0->gradio) (1.2.2)\n",
            "Requirement already satisfied: starlette<0.41.0,>=0.37.2 in /usr/local/lib/python3.10/dist-packages (from fastapi<1.0->gradio) (0.40.0)\n",
            "Requirement already satisfied: certifi in /usr/local/lib/python3.10/dist-packages (from httpx>=0.24.1->gradio) (2024.8.30)\n",
            "Requirement already satisfied: httpcore==1.* in /usr/local/lib/python3.10/dist-packages (from httpx>=0.24.1->gradio) (1.0.6)\n",
            "Requirement already satisfied: h11<0.15,>=0.13 in /usr/local/lib/python3.10/dist-packages (from httpcore==1.*->httpx>=0.24.1->gradio) (0.14.0)\n",
            "Requirement already satisfied: filelock in /usr/local/lib/python3.10/dist-packages (from huggingface-hub>=0.25.1->gradio) (3.16.1)\n",
            "Requirement already satisfied: requests in /usr/local/lib/python3.10/dist-packages (from huggingface-hub>=0.25.1->gradio) (2.32.3)\n",
            "Requirement already satisfied: tqdm>=4.42.1 in /usr/local/lib/python3.10/dist-packages (from huggingface-hub>=0.25.1->gradio) (4.66.5)\n",
            "Requirement already satisfied: python-dateutil>=2.8.2 in /usr/local/lib/python3.10/dist-packages (from pandas<3.0,>=1.0->gradio) (2.9.0.post0)\n",
            "Requirement already satisfied: pytz>=2020.1 in /usr/local/lib/python3.10/dist-packages (from pandas<3.0,>=1.0->gradio) (2024.2)\n",
            "Requirement already satisfied: tzdata>=2022.7 in /usr/local/lib/python3.10/dist-packages (from pandas<3.0,>=1.0->gradio) (2024.2)\n",
            "Requirement already satisfied: annotated-types>=0.6.0 in /usr/local/lib/python3.10/dist-packages (from pydantic>=2.0->gradio) (0.7.0)\n",
            "Requirement already satisfied: pydantic-core==2.23.4 in /usr/local/lib/python3.10/dist-packages (from pydantic>=2.0->gradio) (2.23.4)\n",
            "Requirement already satisfied: click>=8.0.0 in /usr/local/lib/python3.10/dist-packages (from typer<1.0,>=0.12->gradio) (8.1.7)\n",
            "Requirement already satisfied: shellingham>=1.3.0 in /usr/local/lib/python3.10/dist-packages (from typer<1.0,>=0.12->gradio) (1.5.4)\n",
            "Requirement already satisfied: rich>=10.11.0 in /usr/local/lib/python3.10/dist-packages (from typer<1.0,>=0.12->gradio) (13.9.2)\n",
            "Requirement already satisfied: six>=1.5 in /usr/local/lib/python3.10/dist-packages (from python-dateutil>=2.8.2->pandas<3.0,>=1.0->gradio) (1.16.0)\n",
            "Requirement already satisfied: markdown-it-py>=2.2.0 in /usr/local/lib/python3.10/dist-packages (from rich>=10.11.0->typer<1.0,>=0.12->gradio) (3.0.0)\n",
            "Requirement already satisfied: pygments<3.0.0,>=2.13.0 in /usr/local/lib/python3.10/dist-packages (from rich>=10.11.0->typer<1.0,>=0.12->gradio) (2.18.0)\n",
            "Requirement already satisfied: charset-normalizer<4,>=2 in /usr/local/lib/python3.10/dist-packages (from requests->huggingface-hub>=0.25.1->gradio) (3.4.0)\n",
            "Requirement already satisfied: urllib3<3,>=1.21.1 in /usr/local/lib/python3.10/dist-packages (from requests->huggingface-hub>=0.25.1->gradio) (2.2.3)\n",
            "Requirement already satisfied: mdurl~=0.1 in /usr/local/lib/python3.10/dist-packages (from markdown-it-py>=2.2.0->rich>=10.11.0->typer<1.0,>=0.12->gradio) (0.1.2)\n"
          ]
        }
      ]
    },
    {
      "cell_type": "code",
      "source": [
        "from google.colab import drive\n",
        "drive.mount('/content/drive')"
      ],
      "metadata": {
        "id": "6Ln9--3ZM5yO",
        "colab": {
          "base_uri": "https://localhost:8080/"
        },
        "outputId": "0e6e5132-8c28-4ed9-a22d-05e7a641368b"
      },
      "execution_count": 3,
      "outputs": [
        {
          "output_type": "stream",
          "name": "stdout",
          "text": [
            "Mounted at /content/drive\n"
          ]
        }
      ]
    },
    {
      "cell_type": "code",
      "source": [
        "rf_classifier=joblib.load('/content/drive/MyDrive/Sudha-Thesis/Trained Model-RF/model.pkl')"
      ],
      "metadata": {
        "id": "acUkkzg8WJVZ"
      },
      "execution_count": 4,
      "outputs": []
    },
    {
      "cell_type": "code",
      "source": [],
      "metadata": {
        "id": "Yg5cdu8YBvVg"
      },
      "execution_count": 4,
      "outputs": []
    },
    {
      "cell_type": "code",
      "execution_count": 5,
      "metadata": {
        "id": "DSIrktD8IcAL",
        "colab": {
          "base_uri": "https://localhost:8080/",
          "height": 646
        },
        "outputId": "59615a35-5246-4eea-a305-13ec579a2f98"
      },
      "outputs": [
        {
          "output_type": "stream",
          "name": "stdout",
          "text": [
            "Running Gradio in a Colab notebook requires sharing enabled. Automatically setting `share=True` (you can turn this off by setting `share=False` in `launch()` explicitly).\n",
            "\n",
            "Colab notebook detected. To show errors in colab notebook, set debug=True in launch()\n",
            "* Running on public URL: https://c261155edf92d3e802.gradio.live\n",
            "\n",
            "This share link expires in 72 hours. For free permanent hosting and GPU upgrades, run `gradio deploy` from the terminal in the working directory to deploy to Hugging Face Spaces (https://huggingface.co/spaces)\n"
          ]
        },
        {
          "output_type": "display_data",
          "data": {
            "text/plain": [
              "<IPython.core.display.HTML object>"
            ],
            "text/html": [
              "<div><iframe src=\"https://c261155edf92d3e802.gradio.live\" width=\"100%\" height=\"500\" allow=\"autoplay; camera; microphone; clipboard-read; clipboard-write;\" frameborder=\"0\" allowfullscreen></iframe></div>"
            ]
          },
          "metadata": {}
        },
        {
          "output_type": "execute_result",
          "data": {
            "text/plain": []
          },
          "metadata": {},
          "execution_count": 5
        }
      ],
      "source": [
        "def map_inputs(Gender, Year, CGPA, Family_Status, Relationship_Status, Financial_Stress, Extreme_Ragging_Issue, Session_Jam, Social_Circle, Adjustment_Challenges, Consultancy_Service, Peer_Pressure, University_Educational_System):\n",
        "    input_data = {\n",
        "        'Gender': 1 if Gender == 'Male' else 0,\n",
        "        'Year': {'1st': 1, '2nd': 2, '3rd': 3, '4th': 4}[Year],\n",
        "        'CGPA': round(float(CGPA.split('-')[0].strip()), 2),\n",
        "        'Family Status': {'Not Supportive': 2, 'Moderate': 1, 'Supportive': 0}[Family_Status],\n",
        "        'Relationship Status': 1 if Relationship_Status == 'Single' else 0,\n",
        "        'Financial Stress': 0 if Financial_Stress == 'Self Earner' else 1,\n",
        "        'Extreme Ragging Issue': 1 if Extreme_Ragging_Issue == 'Yes' else 0,\n",
        "        'Session Jam': 1 if Session_Jam == 'Frequently' else 0,\n",
        "        'Social Circle': {'Small': 2, 'Moderate': 1, 'Large': 0}[Social_Circle],\n",
        "        'Adjustment Challenges ': {'Yes': 2, 'Moderate': 1, 'No': 0}[Adjustment_Challenges],\n",
        "        'Consultancy Service': 1 if Consultancy_Service == 'Absent' else 0,\n",
        "        'Peer Pressure': 1 if Peer_Pressure == 'Yes' else 0,\n",
        "        'University Educational System': 1 if University_Educational_System == 'Stressful' else 0\n",
        "    }\n",
        "    return pd.DataFrame([input_data])\n",
        "\n",
        "# Define the function to predict depression\n",
        "def predict_depression(Gender, Year, CGPA, Family_Status, Relationship_Status, Financial_Stress, Extreme_Ragging_Issue, Session_Jam, Social_Circle, Adjustment_Challenges, Consultancy_Service, Peer_Pressure, University_Educational_System):\n",
        "    test_sample = map_inputs(Gender, Year, CGPA, Family_Status, Relationship_Status, Financial_Stress, Extreme_Ragging_Issue, Session_Jam, Social_Circle, Adjustment_Challenges, Consultancy_Service, Peer_Pressure, University_Educational_System)\n",
        "    predicted_label = rf_classifier.predict(test_sample)\n",
        "    return 'High Possibility of Depression' if predicted_label[0] == 1 else 'Low Possibility of Depression'\n",
        "\n",
        "# Create the Gradio interface\n",
        "iface = gr.Interface(\n",
        "    fn=predict_depression,  # the function to use\n",
        "    inputs=[\n",
        "        gr.Radio(['Male', 'Female'], label=\"Gender\"),\n",
        "        gr.Radio(['1st', '2nd', '3rd', '4th'], label=\"Year\"),\n",
        "        gr.Textbox(label=\"CGPA (e.g., 3.0-4.0)\"),\n",
        "        gr.Radio(['Not Supportive', 'Moderate', 'Supportive'], label=\"Family Status\"),\n",
        "        gr.Radio(['Single', 'Married'], label=\"Relationship Status\"),\n",
        "        gr.Radio(['Self Earner', 'Supported by family'], label=\"Financial Stress\"),\n",
        "        gr.Radio(['Yes', 'No'], label=\"Extreme Ragging Issue\"),\n",
        "        gr.Radio(['Frequently', 'Occasionally'], label=\"Session Jam\"),\n",
        "        gr.Radio(['Small', 'Moderate', 'Large'], label=\"Social Circle\"),\n",
        "        gr.Radio(['Yes', 'Moderate', 'No'], label=\"Adjustment Challenges\"),\n",
        "        gr.Radio(['Absent', 'Present'], label=\"Consultancy Service in Campus\"),\n",
        "        gr.Radio(['Yes', 'No'], label=\"Peer Pressure\"),\n",
        "        gr.Radio(['Stressful', 'Adjustable'], label=\"University Educational System\"),\n",
        "    ],  # multiple inputs\n",
        "    outputs=gr.Textbox(label=\"Prediction\"),  # single output\n",
        "    title=\"Depression Prediction\",\n",
        "    description=\"Enter the details to predict if the student is depressed.\"\n",
        ")\n",
        "\n",
        "# Launch the interface\n",
        "iface.launch()"
      ]
    },
    {
      "cell_type": "code",
      "source": [
        "svm_classifier=joblib.load('/content/drive/MyDrive/Sudha-Thesis/Trained Model-SVM/model.pkl')"
      ],
      "metadata": {
        "id": "0lDqZdWNWHTJ"
      },
      "execution_count": 6,
      "outputs": []
    },
    {
      "cell_type": "code",
      "source": [
        "# Define the function to predict depression\n",
        "def predict_depression2 (Gender, Year, CGPA, Family_Status, Relationship_Status, Financial_Stress, Extreme_Ragging_Issue, Session_Jam, Social_Circle, Adjustment_Challenges, Consultancy_Service, Peer_Pressure, University_Educational_System):\n",
        "    test_sample = map_inputs(Gender, Year, CGPA, Family_Status, Relationship_Status, Financial_Stress, Extreme_Ragging_Issue, Session_Jam, Social_Circle, Adjustment_Challenges, Consultancy_Service, Peer_Pressure, University_Educational_System)\n",
        "    predicted_label = svm_classifier.predict(test_sample)\n",
        "    return 'High Possibility of Depression' if predicted_label[0] == 1 else 'Low Possibility of Depression'\n",
        "\n",
        "# Create the Gradio interface\n",
        "iface = gr.Interface(\n",
        "    fn=predict_depression2,  # the function to use\n",
        "    inputs=[\n",
        "        gr.Radio(['Male', 'Female'], label=\"Gender\"),\n",
        "        gr.Radio(['1st', '2nd', '3rd', '4th'], label=\"Year\"),\n",
        "        gr.Textbox(label=\"CGPA (e.g., 3.0-4.0)\"),\n",
        "        gr.Radio(['Not Supportive', 'Moderate', 'Supportive'], label=\"Family Status\"),\n",
        "        gr.Radio(['Single', 'Married'], label=\"Relationship Status\"),\n",
        "        gr.Radio(['Self Earner', 'Supported by family'], label=\"Financial Stress\"),\n",
        "        gr.Radio(['Yes', 'No'], label=\"Extreme Ragging Issue\"),\n",
        "        gr.Radio(['Frequently', 'Occasionally'], label=\"Session Jam\"),\n",
        "        gr.Radio(['Small', 'Moderate', 'Large'], label=\"Social Circle\"),\n",
        "        gr.Radio(['Yes', 'Moderate', 'No'], label=\"Adjustment Challenges\"),\n",
        "        gr.Radio(['Absent', 'Present'], label=\"Consultancy Service in Campus\"),\n",
        "        gr.Radio(['Yes', 'No'], label=\"Peer Pressure\"),\n",
        "        gr.Radio(['Stressful', 'Adjustable'], label=\"University Educational System\"),\n",
        "    ],  # multiple inputs\n",
        "    outputs=gr.Textbox(label=\"Prediction\"),  # single output\n",
        "    title=\"Depression Prediction\",\n",
        "    description=\"Enter the details to predict if the student is depressed.\"\n",
        ")\n",
        "\n",
        "# Launch the interface\n",
        "iface.launch()"
      ],
      "metadata": {
        "id": "MR-n5q8FC6_w",
        "colab": {
          "base_uri": "https://localhost:8080/",
          "height": 646
        },
        "outputId": "6e003652-6244-4dd9-a212-c9ddbdf114a0"
      },
      "execution_count": 7,
      "outputs": [
        {
          "output_type": "stream",
          "name": "stdout",
          "text": [
            "Running Gradio in a Colab notebook requires sharing enabled. Automatically setting `share=True` (you can turn this off by setting `share=False` in `launch()` explicitly).\n",
            "\n",
            "Colab notebook detected. To show errors in colab notebook, set debug=True in launch()\n",
            "* Running on public URL: https://ddfea6ee4b162fa609.gradio.live\n",
            "\n",
            "This share link expires in 72 hours. For free permanent hosting and GPU upgrades, run `gradio deploy` from the terminal in the working directory to deploy to Hugging Face Spaces (https://huggingface.co/spaces)\n"
          ]
        },
        {
          "output_type": "display_data",
          "data": {
            "text/plain": [
              "<IPython.core.display.HTML object>"
            ],
            "text/html": [
              "<div><iframe src=\"https://ddfea6ee4b162fa609.gradio.live\" width=\"100%\" height=\"500\" allow=\"autoplay; camera; microphone; clipboard-read; clipboard-write;\" frameborder=\"0\" allowfullscreen></iframe></div>"
            ]
          },
          "metadata": {}
        },
        {
          "output_type": "execute_result",
          "data": {
            "text/plain": []
          },
          "metadata": {},
          "execution_count": 7
        }
      ]
    }
  ]
}